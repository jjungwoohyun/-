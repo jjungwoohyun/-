{
 "cells": [
  {
   "cell_type": "code",
   "execution_count": 1,
   "metadata": {},
   "outputs": [
    {
     "name": "stderr",
     "output_type": "stream",
     "text": [
      "c:\\anaconda\\lib\\site-packages\\pandas\\compat\\_optional.py:138: UserWarning: Pandas requires version '2.7.0' or newer of 'numexpr' (version '2.6.9' currently installed).\n",
      "  warnings.warn(msg, UserWarning)\n"
     ]
    },
    {
     "name": "stdout",
     "output_type": "stream",
     "text": [
      "['KRW-BTC', 'KRW-ETH', 'KRW-NEO', 'KRW-MTL', 'KRW-LTC', 'KRW-XRP', 'KRW-ETC', 'KRW-OMG', 'KRW-SNT', 'KRW-WAVES', 'KRW-XEM', 'KRW-QTUM', 'KRW-LSK', 'KRW-STEEM', 'KRW-XLM', 'KRW-ARDR', 'KRW-ARK', 'KRW-STORJ', 'KRW-GRS', 'KRW-REP', 'KRW-ADA', 'KRW-SBD', 'KRW-POWR', 'KRW-BTG', 'KRW-ICX', 'KRW-EOS', 'KRW-TRX', 'KRW-SC', 'KRW-ONT', 'KRW-ZIL', 'KRW-POLY', 'KRW-ZRX', 'KRW-LOOM', 'KRW-BCH', 'KRW-BAT', 'KRW-IOST', 'KRW-RFR', 'KRW-CVC', 'KRW-IQ', 'KRW-IOTA', 'KRW-MFT', 'KRW-ONG', 'KRW-GAS', 'KRW-UPP', 'KRW-ELF', 'KRW-KNC', 'KRW-BSV', 'KRW-THETA', 'KRW-QKC', 'KRW-BTT', 'KRW-MOC', 'KRW-ENJ', 'KRW-TFUEL', 'KRW-MANA', 'KRW-ANKR', 'KRW-AERGO', 'KRW-ATOM', 'KRW-TT', 'KRW-CRE', 'KRW-MBL', 'KRW-WAXP', 'KRW-HBAR', 'KRW-MED', 'KRW-MLK', 'KRW-STPT', 'KRW-ORBS', 'KRW-VET', 'KRW-CHZ', 'KRW-STMX', 'KRW-DKA', 'KRW-HIVE', 'KRW-KAVA', 'KRW-AHT', 'KRW-LINK', 'KRW-XTZ', 'KRW-BORA', 'KRW-JST', 'KRW-CRO', 'KRW-TON', 'KRW-SXP', 'KRW-HUNT', 'KRW-PLA', 'KRW-DOT', 'KRW-SRM', 'KRW-MVL', 'KRW-STRAX', 'KRW-AQT', 'KRW-GLM', 'KRW-SSX', 'KRW-META', 'KRW-FCT2', 'KRW-CBK', 'KRW-SAND', 'KRW-HUM', 'KRW-DOGE', 'KRW-STRK', 'KRW-PUNDIX', 'KRW-FLOW', 'KRW-DAWN', 'KRW-AXS', 'KRW-STX', 'KRW-XEC', 'KRW-SOL', 'KRW-MATIC', 'KRW-NU', 'KRW-AAVE', 'KRW-1INCH', 'KRW-ALGO', 'KRW-NEAR', 'KRW-WEMIX', 'KRW-AVAX', 'KRW-T', 'KRW-CELO', 'KRW-GMT']\n"
     ]
    }
   ],
   "source": [
    "import pyupbit\n",
    "kr_coin = pyupbit.get_tickers(fiat = \"KRW\")\n",
    "print(kr_coin)"
   ]
  },
  {
   "cell_type": "code",
   "execution_count": 2,
   "metadata": {},
   "outputs": [],
   "source": [
    "import mplfinance as mpf\n",
    "chart = [] #차트 저장을 위한 리스트\n",
    "target = [] #타겟 저장을 위한 리스트\n",
    "mc = mpf.make_marketcolors(up='r',down='b', volume = 'g', wick = 'inherit') #차트 색 설정\n",
    "s  = mpf.make_mpf_style(marketcolors=mc, figcolor = 'black') #차트 스타일 설정"
   ]
  },
  {
   "cell_type": "code",
   "execution_count": 8,
   "metadata": {},
   "outputs": [],
   "source": [
    "import datetime\n",
    "def chart_create(coin, interval, count, year, month, day, figratio): #차트 생성 함수(코인명, 간격, 데이터 갯수, 시작 년, 월, 일)\n",
    "    day = datetime.datetime(year, month, day)\n",
    "    if \"day\" in interval:\n",
    "        plus = datetime.timedelta(days = count)\n",
    "    if \"minute\" in interval:\n",
    "        plus = datetime.timedelta(minutes = count)\n",
    "    while True:\n",
    "        to = day.strftime(\"%Y%m%d %H:%M:%S\")\n",
    "        btc = pyupbit.get_ohlcv(ticker = coin, interval = interval, to = to, count = count)\n",
    "        mpf.plot(btc, type = 'candle',volume = True, figratio = figratio, tight_layout = True, style = s, axisoff = True, savefig = day.strftime(\"%Y%m%d%H%M%S\"))\n",
    "        day += plus\n",
    "        if day == datetime.datetime.today().strftime(\"%Y%m%d %H:00:00\"):\n",
    "            return"
   ]
  },
  {
   "cell_type": "code",
   "execution_count": 11,
   "metadata": {},
   "outputs": [],
   "source": [
    "import time\n",
    "import os\n",
    "target = []\n",
    "# 1:급락 2:상승 3:보합 4:하락 5:급락\n",
    "def target_create(coin, location, interval, count):\n",
    "    global target\n",
    "    file_list = os.listdir(location)\n",
    "    file_name = []\n",
    "    for file in file_list:\n",
    "        if file.count(\".\") == 1: \n",
    "            name = file.split('.')[0]\n",
    "            file_name.append(name)\n",
    "    if \"day\" in interval:\n",
    "        plus = datetime.timedelta(days = count)\n",
    "    if \"minute\" in interval:\n",
    "        plus = datetime.timedelta(minutes = count)\n",
    "        \n",
    "    for i in file_name:\n",
    "        day = datetime.datetime(int(i[0:4]), int(i[4:6]), int(i[6:8]), int(i[8:10]), int(i[10:12]), int(i[12::]))\n",
    "        time.sleep(0.05)\n",
    "        btc = pyupbit.get_ohlcv(ticker = coin, interval = interval, to = day + datetime.timedelta(minutes = 1), count = count+1)\n",
    "        origin_day = btc['close'][0]\n",
    "        target_day = btc['close'][-1]\n",
    "        if (target_day - origin_day)/origin_day >= 0.01:\n",
    "            target.append(1)\n",
    "        elif (target_day - origin_day)/origin_day <= -0.01:\n",
    "            target.append(5)\n",
    "        elif (target_day - origin_day)/origin_day >= -0.005 and (target_day - origin_day)/origin_day <= 0.005:\n",
    "            target.append(3)\n",
    "        elif (target_day-origin_day)/origin_day > 0.005:\n",
    "            target.append(2)\n",
    "        elif (target_day-origin_day)/origin_day < -0.005:\n",
    "            target.append(4)\n",
    "        print(len(target))\n",
    "        day += plus            "
   ]
  },
  {
   "cell_type": "code",
   "execution_count": null,
   "metadata": {},
   "outputs": [],
   "source": [
    "target_create(\"KRW-BTC\", \"BTC_minute1\", \"minute1\", 60)"
   ]
  },
  {
   "cell_type": "code",
   "execution_count": 18,
   "metadata": {},
   "outputs": [
    {
     "name": "stdout",
     "output_type": "stream",
     "text": [
      "상승 : 0.02912280701754386\n",
      "83\n",
      "하락 : 0.09614035087719298\n",
      "274\n",
      "보합 : 0.7498245614035087\n",
      "2137\n",
      "하락 : 0.0887719298245614\n",
      "253\n",
      "급락 : 0.03614035087719298\n",
      "103\n"
     ]
    }
   ],
   "source": [
    "#타겟 분포 확인\n",
    "import matplotlib.pyplot as plt\n",
    "def check_target(target):\n",
    "    target_name = ['급등', '상승', '보합', '하락', '급락']\n",
    "    for i in range(1, 6):\n",
    "        print(target_name[i-1] + ' : ' + str(target.count(i)/len(target)))      \n",
    "        print(target.count(i))\n",
    "check_target(target)"
   ]
  },
  {
   "cell_type": "code",
   "execution_count": 16,
   "metadata": {},
   "outputs": [
    {
     "name": "stdout",
     "output_type": "stream",
     "text": [
      "cuda\n"
     ]
    }
   ],
   "source": [
    "import torch\n",
    "import torch.nn.functional as F\n",
    "import torch.nn as nn\n",
    "import torch.optim as optim\n",
    "import torch.nn.init\n",
    "from torch.utils.data import Dataset, DataLoader, TensorDataset, random_split, SubsetRandomSampler, ConcatDataset\n",
    "import torchvision.transforms as transforms\n",
    "import numpy as np\n",
    "USE_CUDA = torch.cuda.is_available()\n",
    "DEVICE = torch.device(\"cuda\" if USE_CUDA else \"cpu\")\n",
    "print(DEVICE)"
   ]
  },
  {
   "cell_type": "code",
   "execution_count": 46,
   "metadata": {},
   "outputs": [
    {
     "ename": "UnidentifiedImageError",
     "evalue": "cannot identify image file 'Project.ipynb'",
     "output_type": "error",
     "traceback": [
      "\u001b[1;31m---------------------------------------------------------------------------\u001b[0m",
      "\u001b[1;31mUnidentifiedImageError\u001b[0m                    Traceback (most recent call last)",
      "\u001b[1;32m<ipython-input-46-e01090b25c23>\u001b[0m in \u001b[0;36m<module>\u001b[1;34m\u001b[0m\n\u001b[0;32m      5\u001b[0m \u001b[0mchart\u001b[0m \u001b[1;33m=\u001b[0m \u001b[1;33m[\u001b[0m\u001b[1;33m]\u001b[0m\u001b[1;33m\u001b[0m\u001b[1;33m\u001b[0m\u001b[0m\n\u001b[0;32m      6\u001b[0m \u001b[1;32mfor\u001b[0m \u001b[0mfile\u001b[0m \u001b[1;32min\u001b[0m \u001b[0mfile_list\u001b[0m\u001b[1;33m:\u001b[0m\u001b[1;33m\u001b[0m\u001b[1;33m\u001b[0m\u001b[0m\n\u001b[1;32m----> 7\u001b[1;33m     \u001b[0mf\u001b[0m \u001b[1;33m=\u001b[0m \u001b[0mImage\u001b[0m\u001b[1;33m.\u001b[0m\u001b[0mopen\u001b[0m\u001b[1;33m(\u001b[0m\u001b[0mfile\u001b[0m\u001b[1;33m)\u001b[0m\u001b[1;33m\u001b[0m\u001b[1;33m\u001b[0m\u001b[0m\n\u001b[0m\u001b[0;32m      8\u001b[0m     \u001b[0mf_resize\u001b[0m \u001b[1;33m=\u001b[0m \u001b[0mf\u001b[0m\u001b[1;33m.\u001b[0m\u001b[0mresize\u001b[0m\u001b[1;33m(\u001b[0m\u001b[1;33m(\u001b[0m\u001b[1;36m224\u001b[0m\u001b[1;33m,\u001b[0m \u001b[1;36m112\u001b[0m\u001b[1;33m)\u001b[0m\u001b[1;33m)\u001b[0m \u001b[1;31m#리사이즈, 기본으로 Nearest 사용\u001b[0m\u001b[1;33m\u001b[0m\u001b[1;33m\u001b[0m\u001b[0m\n\u001b[0;32m      9\u001b[0m     \u001b[0mf_resize\u001b[0m \u001b[1;33m=\u001b[0m \u001b[0mnp\u001b[0m\u001b[1;33m.\u001b[0m\u001b[0marray\u001b[0m\u001b[1;33m(\u001b[0m\u001b[0mf\u001b[0m\u001b[1;33m)\u001b[0m\u001b[1;33m[\u001b[0m\u001b[1;33m:\u001b[0m\u001b[1;33m,\u001b[0m \u001b[1;33m:\u001b[0m\u001b[1;33m,\u001b[0m \u001b[1;33m:\u001b[0m\u001b[1;36m3\u001b[0m\u001b[1;33m]\u001b[0m \u001b[1;31m#Png FIle이 4차원 투명도를 가지고 있으므로 :3으로 4차원 제거\u001b[0m\u001b[1;33m\u001b[0m\u001b[1;33m\u001b[0m\u001b[0m\n",
      "\u001b[1;32mC:\\anaconda\\lib\\site-packages\\PIL\\Image.py\u001b[0m in \u001b[0;36mopen\u001b[1;34m(fp, mode, formats)\u001b[0m\n\u001b[0;32m   3029\u001b[0m         \u001b[0mwarnings\u001b[0m\u001b[1;33m.\u001b[0m\u001b[0mwarn\u001b[0m\u001b[1;33m(\u001b[0m\u001b[0mmessage\u001b[0m\u001b[1;33m)\u001b[0m\u001b[1;33m\u001b[0m\u001b[1;33m\u001b[0m\u001b[0m\n\u001b[0;32m   3030\u001b[0m     raise UnidentifiedImageError(\n\u001b[1;32m-> 3031\u001b[1;33m         \u001b[1;34m\"cannot identify image file %r\"\u001b[0m \u001b[1;33m%\u001b[0m \u001b[1;33m(\u001b[0m\u001b[0mfilename\u001b[0m \u001b[1;32mif\u001b[0m \u001b[0mfilename\u001b[0m \u001b[1;32melse\u001b[0m \u001b[0mfp\u001b[0m\u001b[1;33m)\u001b[0m\u001b[1;33m\u001b[0m\u001b[1;33m\u001b[0m\u001b[0m\n\u001b[0m\u001b[0;32m   3032\u001b[0m     )\n\u001b[0;32m   3033\u001b[0m \u001b[1;33m\u001b[0m\u001b[0m\n",
      "\u001b[1;31mUnidentifiedImageError\u001b[0m: cannot identify image file 'Project.ipynb'"
     ]
    }
   ],
   "source": [
    "from PIL import Image\n",
    "os.chdir('..')\n",
    "file_list = os.listdir(\"BTC_minute1\")\n",
    "os.chdir(\"BTC_minute1\")\n",
    "chart = []\n",
    "for file in file_list:\n",
    "    f = Image.open(file)\n",
    "    f_resize = f.resize((224, 224)) #리사이즈, 기본으로 Nearest 사용\n",
    "    f_resize = np.array(f)[:, :, :3] #Png FIle이 4차원 투명도를 가지고 있으므로 :3으로 4차원 제거\n",
    "    chart.append(f_resize)"
   ]
  },
  {
   "cell_type": "code",
   "execution_count": 47,
   "metadata": {},
   "outputs": [
    {
     "data": {
      "text/plain": [
       "<matplotlib.image.AxesImage at 0x2019f8acc18>"
      ]
     },
     "execution_count": 47,
     "metadata": {},
     "output_type": "execute_result"
    },
    {
     "data": {
      "image/png": "[encoded data removed]",
      "text/plain": [
       "<Figure size 432x288 with 1 Axes>"
      ]
     },
     "metadata": {
      "needs_background": "light"
     },
     "output_type": "display_data"
    }
   ],
   "source": [
    "#이미지 확인\n",
    "plt.imshow(chart[-1])"
   ]
  },
  {
   "cell_type": "code",
   "execution_count": 9,
   "metadata": {},
   "outputs": [],
   "source": [
    "#tensor로 변환\n",
    "#data_ts = torch.tensor(chart, dtype = torch.float32)\n",
    "#target_ts = torch.tensor(target, dtype = torch.float32)\n",
    "#Data save\n",
    "#torch.save(target_ts, 'data.pt')\n",
    "#torch.save(data_ts, 'target.pt')\n",
    "import pickle\n",
    "data_dict = {'data' :chart, 'target':target}\n",
    "with open('data_dict.pkl', 'wb') as f:\n",
    "    pickle.dump(data_dict, f)"
   ]
  },
  {
   "cell_type": "code",
   "execution_count": 10,
   "metadata": {},
   "outputs": [],
   "source": [
    "os.chdir('BTC_minute1')\n",
    "with open(\"data_dict.pkl\",\"rb\") as fr:\n",
    "    data = pickle.load(fr)"
   ]
  },
  {
   "cell_type": "code",
   "execution_count": 17,
   "metadata": {},
   "outputs": [],
   "source": [
    "target = np.array(data['target'], dtype = np.int64)\n",
    "target_list = [i for i in range(1,6)]\n",
    "for i, l in enumerate(target_list):\n",
    "      target[target==l] = i\n",
    "def _to_one_hot(y, num_classes):\n",
    "    scatter_dim = len(y.size())\n",
    "    y_tensor = y.view(*y.size(), -1)\n",
    "    zeros = torch.zeros(*y.size(), num_classes, dtype=y.dtype)\n",
    "    return zeros.scatter(scatter_dim, y_tensor, 1)\n",
    "target = _to_one_hot(torch.as_tensor(target), num_classes=5)"
   ]
  },
  {
   "cell_type": "code",
   "execution_count": null,
   "metadata": {},
   "outputs": [],
   "source": [
    "chart = torch.tensor(data['data'], dtype = torch.float32)"
   ]
  },
  {
   "cell_type": "code",
   "execution_count": null,
   "metadata": {},
   "outputs": [],
   "source": [
    "from sklearn import model_selection\n",
    "train_X, test_X, train_Y, test_Y = model_selection.train_test_split(chart, target , test_size=0.2)\n",
    "train = torch.utils.data.TensorDataset(train_X,train_Y)\n",
    "test = torch.utils.data.TensorDataset(test_X,test_Y)"
   ]
  },
  {
   "cell_type": "code",
   "execution_count": null,
   "metadata": {},
   "outputs": [],
   "source": [
    "import torchvision.transforms as transforms\n",
    "from torchvision import models\n",
    "resnet50 = models.resnet50(pretrained = True)\n",
    "for param in resnet50.parameters(): #Freezing\n",
    "  param.required_gard = False\n",
    "\n",
    "num_ftrs = resnet50.fc.in_features\n",
    "resnet50.fc = nn.Linear(num_ftrs, 5).to(DEVICE)  "
   ]
  },
  {
   "cell_type": "code",
   "execution_count": 1,
   "metadata": {},
   "outputs": [
    {
     "ename": "NameError",
     "evalue": "name 'optim' is not defined",
     "output_type": "error",
     "traceback": [
      "\u001b[1;31m---------------------------------------------------------------------------\u001b[0m",
      "\u001b[1;31mNameError\u001b[0m                                 Traceback (most recent call last)",
      "\u001b[1;32m<ipython-input-1-bb796156530a>\u001b[0m in \u001b[0;36m<module>\u001b[1;34m\u001b[0m\n\u001b[0;32m      5\u001b[0m         \u001b[1;34m'NUM_EPOCH'\u001b[0m\u001b[1;33m:\u001b[0m \u001b[1;36m25\u001b[0m\u001b[1;33m\u001b[0m\u001b[1;33m\u001b[0m\u001b[0m\n\u001b[0;32m      6\u001b[0m         }\n\u001b[1;32m----> 7\u001b[1;33m \u001b[0moptimizer\u001b[0m \u001b[1;33m=\u001b[0m \u001b[0moptim\u001b[0m\u001b[1;33m.\u001b[0m\u001b[0mAdam\u001b[0m\u001b[1;33m(\u001b[0m\u001b[0mresnet50\u001b[0m\u001b[1;33m.\u001b[0m\u001b[0mparameters\u001b[0m\u001b[1;33m(\u001b[0m\u001b[1;33m)\u001b[0m\u001b[1;33m,\u001b[0m \u001b[0mlr\u001b[0m \u001b[1;33m=\u001b[0m \u001b[0margs\u001b[0m\u001b[1;33m[\u001b[0m\u001b[1;34m'LEARNING_RATE'\u001b[0m\u001b[1;33m]\u001b[0m\u001b[1;33m)\u001b[0m\u001b[1;33m\u001b[0m\u001b[1;33m\u001b[0m\u001b[0m\n\u001b[0m\u001b[0;32m      8\u001b[0m scheduler = optim.lr_scheduler.LambdaLR(optimizer=optimizer,\n\u001b[0;32m      9\u001b[0m                                         \u001b[0mlr_lambda\u001b[0m\u001b[1;33m=\u001b[0m\u001b[1;32mlambda\u001b[0m \u001b[0mepoch\u001b[0m\u001b[1;33m:\u001b[0m \u001b[1;36m0.95\u001b[0m \u001b[1;33m**\u001b[0m \u001b[0mepoch\u001b[0m\u001b[1;33m,\u001b[0m\u001b[1;33m\u001b[0m\u001b[1;33m\u001b[0m\u001b[0m\n",
      "\u001b[1;31mNameError\u001b[0m: name 'optim' is not defined"
     ]
    }
   ],
   "source": [
    "# parameter\n",
    "args = {\n",
    "\t'BATCH_SIZE': 32,\n",
    "        'LEARNING_RATE': 0.01,\n",
    "        'NUM_EPOCH': 25\n",
    "        }\n",
    "optimizer = optim.Adam(resnet50.parameters(), lr = args['LEARNING_RATE'])\n",
    "scheduler = optim.lr_scheduler.LambdaLR(optimizer=optimizer,\n",
    "                                        lr_lambda=lambda epoch: 0.95 ** epoch,\n",
    "                                        last_epoch=-1,\n",
    "                                        verbose=False)\n",
    "loss_function = nn.CrossEntropyLoss().to(DEVICE)"
   ]
  },
  {
   "cell_type": "code",
   "execution_count": null,
   "metadata": {},
   "outputs": [],
   "source": [
    "import torch.utils.data as Data\n",
    "train_loader = Data.DataLoader(dataset=train, \n",
    "                               batch_size=args['BATCH_SIZE'], \n",
    "                               shuffle=True)"
   ]
  },
  {
   "cell_type": "code",
   "execution_count": null,
   "metadata": {},
   "outputs": [],
   "source": [
    "resnet50 = resnet50.to(DEVICE)\n",
    "for epoch in range(args['NUM_EPOCH']):\n",
    "    resnet50.train()\n",
    "    for step, (chart, target) in enumerate(train_loader):\n",
    "        optimizer.zero_grad()\n",
    "        chart = chart.permute(0, 3, 1, 2)\n",
    "        chart = chart.to(DEVICE)\n",
    "        target = target.to(DEVICE)\n",
    "        outputs = resnet50(chart)\n",
    "        target = torch.argmax(target, dim = 1)\n",
    "        train_loss = loss_function(outputs, target)\n",
    "        train_loss.backward()\n",
    "        optimizer.step()\n",
    "    scheduler.step()\n",
    "    total = 0\n",
    "    correct = 0\n",
    "    accuracy = []\n",
    "    resnet50.eval()\n",
    "    with torch.no_grad():\n",
    "      for chart_t, target_t in test:\n",
    "        chart_t = chart_t.permute(2, 0, 1)\n",
    "        chart_t = chart_t.unsqueeze(0)\n",
    "        chart_t = chart_t.to(DEVICE)\n",
    "        outputs = resnet50(chart_t)\n",
    "        target_t = target_t.reshape(1,3)\n",
    "        target_t = target_t.to(DEVICE)\n",
    "        target_t = torch.argmax(target_t, dim = 1)\n",
    "        temp = list(outputs.data[0].to('cpu').numpy())\n",
    "        temp2 = sorted(temp)\n",
    "        predicted, predicted1 = temp.index(temp2[-1]), temp.index(temp2[-2])\n",
    "        total += target_t.size(0)\n",
    "        correct += (predicted == target_t or predicted1 == target_t).sum().item()\n",
    "        test_loss = loss_function(outputs, target_t).item()\n",
    "        accuracy.append(100 * correct/total)\n",
    "    print('Epoch: %d/%d, Train loss: %.6f, Test loss: %.6f, Accuracy: %.2f' %(epoch+1, args['NUM_EPOCH'], train_loss.item(), test_loss, 100*correct/total),outputs.data, target_t, target_t.size(0))\n",
    "\n"
   ]
  }
 ],
 "metadata": {
  "interpreter": {
   "hash": "d7288e82646d3164eca24130947288f8779d11454649f2c02a5dfc42af7f324c"
  },
  "kernelspec": {
   "display_name": "Python 3.7.3 ('base')",
   "language": "python",
   "name": "python3"
  },
  "language_info": {
   "codemirror_mode": {
    "name": "ipython",
    "version": 3
   },
   "file_extension": ".py",
   "mimetype": "text/x-python",
   "name": "python",
   "nbconvert_exporter": "python",
   "pygments_lexer": "ipython3",
   "version": "3.7.3"
  },
  "orig_nbformat": 4
 },
 "nbformat": 4,
 "nbformat_minor": 2
}
